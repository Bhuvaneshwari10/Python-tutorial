{
 "cells": [
  {
   "cell_type": "code",
   "execution_count": 2,
   "metadata": {},
   "outputs": [
    {
     "name": "stdout",
     "output_type": "stream",
     "text": [
      "Bhuvana <class 'str'>\n",
      "True <class 'bool'>\n",
      "Rayagiri <class 'str'>\n",
      "20 <class 'int'>\n",
      "Fish <class 'str'>\n",
      "Yellow <class 'str'>\n",
      "154.5 <class 'float'>\n",
      "Blackpink <class 'str'>\n",
      "Maniratnam <class 'str'>\n"
     ]
    }
   ],
   "source": [
    "name=\"Bhuvana\"\n",
    "female=True\n",
    "native=\"Rayagiri\"\n",
    "age=20\n",
    "college=\"RIT\"\n",
    "fav_food=\"Fish\"\n",
    "fav_color=\"Yellow\"\n",
    "height=154.5\n",
    "fav_kpop=\"Blackpink\"\n",
    "fav_director=\"Maniratnam\"\n",
    "print(name,type(name))\n",
    "print(female,type(female))\n",
    "print(native,type(native))\n",
    "print(age,type(age))\n",
    "print(fav_food,type(fav_food))\n",
    "print(fav_color,type(fav_color))\n",
    "print(height,type(height))\n",
    "print(fav_kpop,type(fav_kpop))\n",
    "print(fav_director,type(fav_director))"
   ]
  },
  {
   "cell_type": "code",
   "execution_count": 10,
   "metadata": {},
   "outputs": [
    {
     "name": "stdout",
     "output_type": "stream",
     "text": [
      "I am bhu\n",
      "I am  34 years old\n",
      "I love singing\n"
     ]
    }
   ],
   "source": [
    "name=input(\"What is your name?\")\n",
    "print(\"I am\",name)\n",
    "age=int(input(\"How old are you?\"))\n",
    "print(\"I am\",age,\"years old\")\n",
    "hobby=input(\"What is your hobby?\")\n",
    "print(\"I love\",hobby)"
   ]
  }
 ],
 "metadata": {
  "kernelspec": {
   "display_name": "venv",
   "language": "python",
   "name": "python3"
  },
  "language_info": {
   "codemirror_mode": {
    "name": "ipython",
    "version": 3
   },
   "file_extension": ".py",
   "mimetype": "text/x-python",
   "name": "python",
   "nbconvert_exporter": "python",
   "pygments_lexer": "ipython3",
   "version": "3.12.0"
  }
 },
 "nbformat": 4,
 "nbformat_minor": 2
}
