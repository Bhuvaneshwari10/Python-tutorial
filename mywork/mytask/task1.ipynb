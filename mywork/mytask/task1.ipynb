{
 "cells": [
  {
   "cell_type": "code",
   "execution_count": 1,
   "metadata": {},
   "outputs": [
    {
     "name": "stdout",
     "output_type": "stream",
     "text": [
      "2.Subtraction\n",
      "The numbers are 7 and 9\n",
      "Result is\n",
      "2\n"
     ]
    }
   ],
   "source": [
    "import calculate\n",
    "x=int(input(\"What operation do you need to do? 1.Addition 2.Subtraction 3.Multiply 4.Divide 5.Percentage\"))\n",
    "y=int(input(\"Enter first num\"))\n",
    "z=int(input(\"Enter second num\"))\n",
    "if(x==1):\n",
    "    print(\"1.Addition\")\n",
    "    print(f\"The numbers are {y} and {z}\")\n",
    "    print(\"Result is\")\n",
    "    print(calculate.add(y,z))\n",
    "elif(x==2):\n",
    "    print(\"2.Subtraction\")\n",
    "    print(f\"The numbers are {y} and {z}\")\n",
    "    print(\"Result is\")\n",
    "    print(calculate.subtract(y,z))\n",
    "elif(x==3):\n",
    "    print(\"3.Multiply\")\n",
    "    print(f\"The numbers are {y} and {z}\")\n",
    "    print(\"Result is\")\n",
    "    print(calculate.multiply(y,z))\n",
    "elif(x==4):\n",
    "    print(\"4.Divide\")\n",
    "    print(f\"The numbers are {y} and {z}\")\n",
    "    print(\"Result is\")\n",
    "    print(calculate.divide(y,z))\n",
    "else:\n",
    "    print(\"5.Percentage\")\n",
    "    print(f\"The numbers are {y} and {z}\")\n",
    "    print(\"Result is\")\n",
    "    print(calculate.percentage(y,z))"
   ]
  },
  {
   "cell_type": "code",
   "execution_count": null,
   "metadata": {},
   "outputs": [],
   "source": []
  }
 ],
 "metadata": {
  "kernelspec": {
   "display_name": "venv",
   "language": "python",
   "name": "python3"
  },
  "language_info": {
   "codemirror_mode": {
    "name": "ipython",
    "version": 3
   },
   "file_extension": ".py",
   "mimetype": "text/x-python",
   "name": "python",
   "nbconvert_exporter": "python",
   "pygments_lexer": "ipython3",
   "version": "3.12.0"
  }
 },
 "nbformat": 4,
 "nbformat_minor": 2
}
