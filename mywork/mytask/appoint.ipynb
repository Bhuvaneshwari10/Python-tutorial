{
 "cells": [
  {
   "cell_type": "code",
   "execution_count": 11,
   "metadata": {},
   "outputs": [
    {
     "name": "stdout",
     "output_type": "stream",
     "text": [
      "5.College application form\n",
      "Name rrr \n",
      "Age 45 \n",
      "Cgpa 45 \n",
      "Cutoff ff45 \n",
      "Father_name rrrr\n"
     ]
    }
   ],
   "source": [
    "form=int(input(\"What is the purpose 1.Doctor appointment 2.Gym membership 3.Yoga membership 4.User info 5.Collee application\"))\n",
    "if(form==1):\n",
    "    name=input(\"Enter your name\")\n",
    "    age=int(input(\"Enter your age\"))\n",
    "    time=int(input(\"Enter time betwen 6-9\"))\n",
    "    cause=input(\"Enter the problem\")\n",
    "    print(\"1.Doctor appointment form\")\n",
    "    print(\"Name\",name,\"\\nAge\",age,\"\\nTime\",time,\"\\nProblem\",cause)\n",
    "elif(form==2):\n",
    "    name=input(\"Enter your name\")\n",
    "    age=int(input(\"Enter your age\"))\n",
    "    time=int(input(\"Enter your slot time betwen 6-9\"))\n",
    "    weight=int(input(\"Enter the weight\"))\n",
    "    height=int(input(\"Enter the height\"))\n",
    "    print(\"2.Gym membership form\")\n",
    "    print(\"Name\",name,\"\\nAge\",age,\"\\nTime\",time,\"\\nWeight\",weight,\"\\nHeight\",height)\n",
    "elif(form==3):\n",
    "    name=input(\"Enter your name\")\n",
    "    age=int(input(\"Enter your age\"))\n",
    "    time=int(input(\"Enter your slot time betwen 6-9\"))\n",
    "    place=int(input(\"Enter the place\"))\n",
    "    height=int(input(\"Enter the height\"))\n",
    "    print(\"3.Yoga membership form\")\n",
    "    print(\"Name\",name,\"\\nAge\",age,\"\\nTime\",time,\"\\Place\",place,\"\\nHeight\",height)\n",
    "elif(form==4):\n",
    "    name=input(\"Enter your name\")\n",
    "    age=int(input(\"Enter your age\"))\n",
    "    city=input(\"Enter city\")\n",
    "    email=input(\"Enter email\")\n",
    "    phone=input(\"Enter phone num\")\n",
    "    print(\"4.User info form\")\n",
    "    print(\"Name\",name,\"\\nAge\",age,\"\\nCity\",city,\"\\nEmail\",email,\"\\nphone\",phone)\n",
    "else:\n",
    "    name=input(\"Enter your name\")\n",
    "    age=int(input(\"Enter your age\"))\n",
    "    cgpa=input(\"Enter cgpa\")\n",
    "    cutoff=input(\"Enter cutoff\")\n",
    "    father_name=input(\"Enter father's name\")\n",
    "    print(\"5.College application form\")\n",
    "    print(\"Name\",name,\"\\nAge\",age,\"\\nCgpa\",cgpa,\"\\nCutoff\",cutoff,\"\\nFather_name\",father_name)\n",
    "    \n"
   ]
  },
  {
   "cell_type": "code",
   "execution_count": null,
   "metadata": {},
   "outputs": [],
   "source": []
  }
 ],
 "metadata": {
  "kernelspec": {
   "display_name": "venv",
   "language": "python",
   "name": "python3"
  },
  "language_info": {
   "codemirror_mode": {
    "name": "ipython",
    "version": 3
   },
   "file_extension": ".py",
   "mimetype": "text/x-python",
   "name": "python",
   "nbconvert_exporter": "python",
   "pygments_lexer": "ipython3",
   "version": "3.12.0"
  }
 },
 "nbformat": 4,
 "nbformat_minor": 2
}
