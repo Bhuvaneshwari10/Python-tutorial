{
 "cells": [
  {
   "cell_type": "markdown",
   "metadata": {},
   "source": [
    "create a file called bu.txt in write mode and write your professional details\n",
    "read and count the words"
   ]
  },
  {
   "cell_type": "code",
   "execution_count": 6,
   "metadata": {},
   "outputs": [],
   "source": [
    "with open(\"bu.txt\",'w') as file:\n",
    "    file.write(\"Name:Bhuvaneshwari\\nDesignation:Trainee Software Engineer\\nCompany Name:BuSoftTech\\nExperience:1\\nSkill set:Angular,Python,MYSQL\")\n",
    "file.close()"
   ]
  },
  {
   "cell_type": "code",
   "execution_count": 16,
   "metadata": {},
   "outputs": [
    {
     "data": {
      "text/plain": [
       "511"
      ]
     },
     "execution_count": 16,
     "metadata": {},
     "output_type": "execute_result"
    }
   ],
   "source": [
    "file1=open(\"lorem.txt\",\"r\")\n",
    "content=file1.read()\n",
    "c=content.split()\n",
    "len(c)"
   ]
  },
  {
   "cell_type": "markdown",
   "metadata": {},
   "source": [
    "write a func for two variable arguments one for finding a sum of the numbers and one for finding the product of the numbers\n",
    "write a func with default values for finding sum of two numbers the dafult values are 1 and 2 check it values for a function call with no arguments function call with single value ad function call with two values and function call with kwargs"
   ]
  },
  {
   "cell_type": "code",
   "execution_count": 35,
   "metadata": {},
   "outputs": [
    {
     "name": "stdout",
     "output_type": "stream",
     "text": [
      "9\n",
      "18\n"
     ]
    }
   ],
   "source": [
    "\n",
    "def funct(*args,**kwargs):\n",
    "    sum=0\n",
    "    prod=1\n",
    "    for num in args:\n",
    "        sum+=num\n",
    "    print(sum)\n",
    "    for key,value in kwargs.items():\n",
    "        prod*=value\n",
    "    print(prod)\n",
    "funct(2,3,4,prod1=3,prod2=6)"
   ]
  },
  {
   "cell_type": "code",
   "execution_count": 19,
   "metadata": {},
   "outputs": [
    {
     "data": {
      "text/plain": [
       "9"
      ]
     },
     "execution_count": 19,
     "metadata": {},
     "output_type": "execute_result"
    }
   ],
   "source": [
    "def func(x=1,y=2):\n",
    "    return x+y"
   ]
  },
  {
   "cell_type": "code",
   "execution_count": null,
   "metadata": {},
   "outputs": [],
   "source": [
    "func()"
   ]
  },
  {
   "cell_type": "code",
   "execution_count": null,
   "metadata": {},
   "outputs": [],
   "source": [
    "func(4)"
   ]
  },
  {
   "cell_type": "code",
   "execution_count": null,
   "metadata": {},
   "outputs": [],
   "source": [
    "func(4,7)"
   ]
  },
  {
   "cell_type": "code",
   "execution_count": 32,
   "metadata": {},
   "outputs": [
    {
     "name": "stdout",
     "output_type": "stream",
     "text": [
      "10\n"
     ]
    }
   ],
   "source": [
    "def funct(*args):\n",
    "    res=0\n",
    "    for num in args:\n",
    "        res+=num\n",
    "    print(res) \n",
    "funct(3,4,3)"
   ]
  },
  {
   "cell_type": "code",
   "execution_count": 25,
   "metadata": {},
   "outputs": [
    {
     "name": "stdout",
     "output_type": "stream",
     "text": [
      "name Alice\n"
     ]
    }
   ],
   "source": [
    "def funct(**kwargs):\n",
    "    for keys,values in kwargs.items():\n",
    "        print(keys,values)\n",
    "funct(name='Alice')"
   ]
  },
  {
   "cell_type": "code",
   "execution_count": 27,
   "metadata": {},
   "outputs": [
    {
     "name": "stdout",
     "output_type": "stream",
     "text": [
      "14\n",
      "name Lili\n"
     ]
    }
   ],
   "source": [
    "def funct(*args,**kwargs):\n",
    "    res=0\n",
    "    for num in args:\n",
    "        res+=num\n",
    "    print(res)\n",
    "    res=0\n",
    "    for keys,values in kwargs.items():\n",
    "        print(keys,values)\n",
    "funct(3,5,6,name='Lili')"
   ]
  },
  {
   "cell_type": "code",
   "execution_count": null,
   "metadata": {},
   "outputs": [],
   "source": []
  }
 ],
 "metadata": {
  "kernelspec": {
   "display_name": "venv",
   "language": "python",
   "name": "python3"
  },
  "language_info": {
   "codemirror_mode": {
    "name": "ipython",
    "version": 3
   },
   "file_extension": ".py",
   "mimetype": "text/x-python",
   "name": "python",
   "nbconvert_exporter": "python",
   "pygments_lexer": "ipython3",
   "version": "3.12.0"
  }
 },
 "nbformat": 4,
 "nbformat_minor": 2
}
