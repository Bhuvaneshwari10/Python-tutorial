{
 "cells": [
  {
   "cell_type": "code",
   "execution_count": 2,
   "metadata": {},
   "outputs": [],
   "source": [
    "height=150\n",
    "weight=50\n",
    "if height+weight==200: #arithmetic operator\n",
    "    print(\"Correct\")"
   ]
  },
  {
   "cell_type": "code",
   "execution_count": null,
   "metadata": {},
   "outputs": [],
   "source": [
    "age=20  #comparison operator     \n",
    "if age>18:   #greater than\n",
    "    print(\"You are eligible for driving\")\n",
    "else:\n",
    "    print(\"Not eligible for driving\")"
   ]
  },
  {
   "cell_type": "code",
   "execution_count": 3,
   "metadata": {},
   "outputs": [
    {
     "name": "stdout",
     "output_type": "stream",
     "text": [
      "24\n"
     ]
    }
   ],
   "source": [
    "sum=0\n",
    "num=[7,8,9]\n",
    "for x in num:\n",
    "    sum+=x #assignment operator\n",
    "print(sum)"
   ]
  },
  {
   "cell_type": "code",
   "execution_count": 4,
   "metadata": {},
   "outputs": [
    {
     "name": "stdout",
     "output_type": "stream",
     "text": [
      "30\n"
     ]
    }
   ],
   "source": [
    "val1=10\n",
    "val2=20\n",
    "while val1==10 and val2==20: #Logical operator\n",
    "    val1+=val2\n",
    "print(val1)\n"
   ]
  },
  {
   "cell_type": "code",
   "execution_count": 16,
   "metadata": {},
   "outputs": [
    {
     "name": "stdout",
     "output_type": "stream",
     "text": [
      "['I am Lili', 'Rayagiri']\n"
     ]
    }
   ],
   "source": [
    "string1=['I am Lili','Rayagiri']\n",
    "if \"Rayagiri\" in string1: #membership operator\n",
    "    print(string1)"
   ]
  },
  {
   "cell_type": "code",
   "execution_count": 11,
   "metadata": {},
   "outputs": [
    {
     "name": "stdout",
     "output_type": "stream",
     "text": [
      "10\n"
     ]
    },
    {
     "data": {
      "text/plain": [
       "140711090899672"
      ]
     },
     "execution_count": 11,
     "metadata": {},
     "output_type": "execute_result"
    }
   ],
   "source": [
    "a=10\n",
    "b=10\n",
    "if a is b: #identity operator\n",
    "    print(a)\n",
    "id(a)\n",
    "id(b)"
   ]
  },
  {
   "cell_type": "code",
   "execution_count": 17,
   "metadata": {},
   "outputs": [
    {
     "name": "stdout",
     "output_type": "stream",
     "text": [
      "Num is odd\n"
     ]
    }
   ],
   "source": [
    "num=int(input(\"Enter a number\"))\n",
    "if num%2==0:        #modulo   #comparison\n",
    "    print(\"Num is even\")\n",
    "else:\n",
    "    print(\"Num is odd\")"
   ]
  },
  {
   "cell_type": "code",
   "execution_count": 18,
   "metadata": {},
   "outputs": [
    {
     "name": "stdout",
     "output_type": "stream",
     "text": [
      "We are able to offer you a loan\n"
     ]
    }
   ],
   "source": [
    "loan_age=int(input(\"Enter a age\"))\n",
    "annual_income=int(input(\"Enter a age\"))\n",
    "if loan_age>=21 and annual_income>=21000:\n",
    "    print(\"We are able to offer you a loan\")\n",
    "else:\n",
    "    print(\"You are not eligibe\")"
   ]
  },
  {
   "cell_type": "code",
   "execution_count": 20,
   "metadata": {},
   "outputs": [
    {
     "name": "stdout",
     "output_type": "stream",
     "text": [
      "You can enroll on the course\n"
     ]
    }
   ],
   "source": [
    "age=int(input(\"How old are you?\"))\n",
    "exam=input(\"Have you passed your qualifying examination (Y/N)?\")\n",
    "if age>21 and exam=='Y' or exam=='y':\n",
    "    print(\"You can enroll on the course\")\n",
    "else:\n",
    "    print(\"You cannot enroll on the course\")"
   ]
  },
  {
   "cell_type": "code",
   "execution_count": 5,
   "metadata": {},
   "outputs": [
    {
     "name": "stdout",
     "output_type": "stream",
     "text": [
      "4\n",
      "3\n"
     ]
    }
   ],
   "source": [
    "a=int(input(\"Enter a number:\"))\n",
    "b=int(input(\"Enter second number:\"))\n",
    "temp=a\n",
    "a=b\n",
    "b=temp\n",
    "print(a)\n",
    "print(b)"
   ]
  },
  {
   "cell_type": "code",
   "execution_count": 7,
   "metadata": {},
   "outputs": [
    {
     "name": "stdout",
     "output_type": "stream",
     "text": [
      "0\n",
      "1\n",
      "2\n",
      "4\n",
      "5\n"
     ]
    }
   ],
   "source": [
    "for i in range(0,7):\n",
    "    if(i==3 or i==6):\n",
    "        continue\n",
    "    print(i)\n"
   ]
  },
  {
   "cell_type": "code",
   "execution_count": 2,
   "metadata": {},
   "outputs": [
    {
     "name": "stdout",
     "output_type": "stream",
     "text": [
      "[3, 4, 5]\n"
     ]
    }
   ],
   "source": [
    "n=int(input(\"Enter length\"))\n",
    "lst=[]\n",
    "for i in range(0,n):\n",
    "    n1=int(input(\"Enter num\"))\n",
    "    lst.append(n1)\n",
    "print(lst)"
   ]
  },
  {
   "cell_type": "code",
   "execution_count": 11,
   "metadata": {},
   "outputs": [
    {
     "name": "stdout",
     "output_type": "stream",
     "text": [
      "Letters 3\n",
      "Digits 1\n"
     ]
    }
   ],
   "source": [
    "string1=input(\"Enter value\")\n",
    "d=0\n",
    "l=0\n",
    "for c in string1:\n",
    "    if c.isdigit():\n",
    "        d=d+1\n",
    "    elif c.isalpha():\n",
    "        l=l+1\n",
    "    else:\n",
    "        pass\n",
    "print(\"Letters\",l)\n",
    "print(\"Digits\",d)"
   ]
  },
  {
   "cell_type": "code",
   "execution_count": 21,
   "metadata": {},
   "outputs": [
    {
     "name": "stdout",
     "output_type": "stream",
     "text": [
      "[[0, 0, 0, 0], [0, 1, 2, 3], [0, 2, 4, 6]]\n"
     ]
    }
   ],
   "source": [
    "row=int(input(\"Enter row\"))\n",
    "col=int(input(\"Enter col\"))\n",
    "lst=[[0 for j in range(col)]for i in range(row)]\n",
    "for i in range(row):\n",
    "    for j in range(col):\n",
    "        lst[i][j]=i*j\n",
    "print(lst)"
   ]
  }
 ],
 "metadata": {
  "kernelspec": {
   "display_name": "venv",
   "language": "python",
   "name": "python3"
  },
  "language_info": {
   "codemirror_mode": {
    "name": "ipython",
    "version": 3
   },
   "file_extension": ".py",
   "mimetype": "text/x-python",
   "name": "python",
   "nbconvert_exporter": "python",
   "pygments_lexer": "ipython3",
   "version": "3.12.0"
  }
 },
 "nbformat": 4,
 "nbformat_minor": 2
}
