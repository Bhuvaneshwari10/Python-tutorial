{
 "cells": [
  {
   "cell_type": "code",
   "execution_count": 7,
   "metadata": {},
   "outputs": [
    {
     "name": "stdout",
     "output_type": "stream",
     "text": [
      "My name is Lili and my age is 20\n"
     ]
    }
   ],
   "source": [
    "name='Lili'\n",
    "age=20\n",
    "f_s=\"My name is %s and my age is %d\" % (name,age)\n",
    "print(f_s)"
   ]
  },
  {
   "cell_type": "markdown",
   "metadata": {},
   "source": [
    ".format()"
   ]
  },
  {
   "cell_type": "code",
   "execution_count": 8,
   "metadata": {},
   "outputs": [
    {
     "name": "stdout",
     "output_type": "stream",
     "text": [
      "My name is Lili and my age is 20\n"
     ]
    }
   ],
   "source": [
    "name='Lili'\n",
    "age=20\n",
    "f_s=\"My name is {} and my age is {}\" .format(name,age)\n",
    "print(f_s)"
   ]
  },
  {
   "cell_type": "code",
   "execution_count": null,
   "metadata": {},
   "outputs": [],
   "source": [
    "name='Lili'\n",
    "age=20\n",
    "f_s=\"My name is {0} and my age is {1}\" .format(name,age)\n",
    "print(f_s)"
   ]
  },
  {
   "cell_type": "code",
   "execution_count": 16,
   "metadata": {},
   "outputs": [
    {
     "name": "stdout",
     "output_type": "stream",
     "text": [
      "My name is Lili and my age is 20\n"
     ]
    }
   ],
   "source": [
    "\n",
    "f_s=\"My name is {name} and my age is {age}\" .format(name='Lili',age=20)\n",
    "print(f_s)"
   ]
  },
  {
   "cell_type": "markdown",
   "metadata": {},
   "source": [
    "f string"
   ]
  },
  {
   "cell_type": "code",
   "execution_count": 13,
   "metadata": {},
   "outputs": [
    {
     "name": "stdout",
     "output_type": "stream",
     "text": [
      "My name is Lili and my age is 20\n"
     ]
    }
   ],
   "source": [
    "name='Lili'\n",
    "age=20\n",
    "f_s=f\"My name is {name} and my age is {age}\"\n",
    "print(f_s)"
   ]
  }
 ],
 "metadata": {
  "kernelspec": {
   "display_name": "venv",
   "language": "python",
   "name": "python3"
  },
  "language_info": {
   "codemirror_mode": {
    "name": "ipython",
    "version": 3
   },
   "file_extension": ".py",
   "mimetype": "text/x-python",
   "name": "python",
   "nbconvert_exporter": "python",
   "pygments_lexer": "ipython3",
   "version": "3.12.0"
  }
 },
 "nbformat": 4,
 "nbformat_minor": 2
}
